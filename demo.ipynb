{
 "cells": [
  {
   "cell_type": "code",
   "execution_count": 1,
   "metadata": {},
   "outputs": [],
   "source": [
    "import requests\n",
    "response = requests.get(\"https://thuvienphapluat.vn/van-ban/Lao-dong-Tien-luong/Quyet-dinh-5424-1998-QD-UB-QLDT-quy-che-to-chuc-hoat-dong-luc-luong-lam-dich-vu-thu-gom-rac-dan-lap-90948.aspx\")\n",
    "\n"
   ]
  },
  {
   "cell_type": "code",
   "execution_count": 7,
   "metadata": {},
   "outputs": [
    {
     "data": {
      "text/plain": [
       "{'Số hiệu:': '5424/1998/QĐ-UB-QLĐT',\n",
       " '': 'Tình trạng:',\n",
       " 'Quyết định': 'Nơi ban hành:',\n",
       " 'Thành phố Hồ Chí Minh': '',\n",
       " 'Người ký:': 'Vũ Hùng Việt',\n",
       " 'Ngày ban hành:': '15/10/1998',\n",
       " 'Đã biết': 'Ngày công báo:',\n",
       " 'Đang cập nhật': '',\n",
       " 'Số công báo:': 'Đang cập nhật'}"
      ]
     },
     "execution_count": 7,
     "metadata": {},
     "output_type": "execute_result"
    }
   ],
   "source": [
    "from bs4 import BeautifulSoup\n",
    "soup = BeautifulSoup(response.text, \"html.parser\")\n",
    "# find by id=\"divThuocTinh\"\n",
    "divThuocTinh = soup.find(\"div\", id=\"divThuocTinh\")\n",
    "table_thuoctinh = divThuocTinh.find_all(\"table\")[0]\n",
    "thuoctinh = {}\n",
    "new_key = None\n",
    "for i,td in enumerate(table_thuoctinh.find_all(\"td\")):\n",
    "    if new_key is None:\n",
    "        new_key = td.text.strip()\n",
    "    else:\n",
    "        thuoctinh[new_key] = td.text.strip()\n",
    "        new_key = None\n",
    "thuoctinh"
   ]
  },
  {
   "cell_type": "code",
   "execution_count": 11,
   "metadata": {},
   "outputs": [
    {
     "data": {
      "text/plain": [
       "12522"
      ]
     },
     "execution_count": 11,
     "metadata": {},
     "output_type": "execute_result"
    }
   ],
   "source": [
    "# find by class=\"content1\"\n",
    "content1 = soup.find(\"div\", class_=\"content1\")\n",
    "open(\"contents/5424-1998-QD-UB-QLDT-quy-che-to-chuc-hoat-dong-luc-luong-lam-dich-vu-thu-gom-rac-dan-lap-90948\", \"w+\").write(content1.text)"
   ]
  },
  {
   "cell_type": "code",
   "execution_count": 21,
   "metadata": {},
   "outputs": [
    {
     "data": {
      "text/plain": [
       "('1718526047.94318',\n",
       " '\\r\\n\\tQuyết định 5424/1998/QĐ-UB-QLĐT quy chế tổ chức hoạt động lực lượng làm dịch vụ thu gom rác dân lập\\r\\n')"
      ]
     },
     "execution_count": 21,
     "metadata": {},
     "output_type": "execute_result"
    }
   ],
   "source": [
    "import datetime\n",
    "\n",
    "# get current date\n",
    "now = datetime.datetime.now()\n",
    "str(now.timestamp()), soup.title.text"
   ]
  },
  {
   "cell_type": "code",
   "execution_count": 13,
   "metadata": {},
   "outputs": [
    {
     "data": {
      "text/plain": [
       "['318/QĐ-UBND',\n",
       " 'Quyết định 318/QĐ-UBND',\n",
       " '5424/1998/QĐ-UB-QLĐT',\n",
       " 'Quyết định 5424/1998/QĐ-UB-QLĐT',\n",
       " '12/2019/QĐ-UBND',\n",
       " 'Quyết định 12/2019/QĐ-UBND']"
      ]
     },
     "execution_count": 13,
     "metadata": {},
     "output_type": "execute_result"
    }
   ],
   "source": [
    "tukhoa = soup.find(\"div\", class_=\"tukhoa\")\n",
    "\n",
    "[link.text for link in tukhoa.find_all(\"a\")]"
   ]
  },
  {
   "cell_type": "code",
   "execution_count": 23,
   "metadata": {},
   "outputs": [
    {
     "data": {
      "text/plain": [
       "'content_1.txt'"
      ]
     },
     "execution_count": 23,
     "metadata": {},
     "output_type": "execute_result"
    }
   ],
   "source": [
    "import os\n",
    "def get_incremental_filename(log_folder, base_filename, extension):\n",
    "    \n",
    "    files = os.listdir(log_folder)\n",
    "    \n",
    "    # Filter files that match the base filename and extension pattern\n",
    "    matching_files = [f for f in files if f.startswith(base_filename) and f.endswith(extension)]\n",
    "    \n",
    "    # Extract the numeric part from the filenames and find the highest number\n",
    "    max_num = 0\n",
    "    for f in matching_files:\n",
    "        try:\n",
    "            num = int(f[len(base_filename):-len(extension)])\n",
    "            if num > max_num:\n",
    "                max_num = num\n",
    "        except ValueError:\n",
    "            continue\n",
    "    \n",
    "    # Increment the highest number by 1\n",
    "    new_num = max_num + 1\n",
    "    \n",
    "    # Return the new filename\n",
    "    new_filename = f\"{base_filename}{new_num}{extension}\"\n",
    "    return new_filename\n",
    "get_incremental_filename(\"contents\",\"content_\", \".txt\")"
   ]
  }
 ],
 "metadata": {
  "kernelspec": {
   "display_name": "rag",
   "language": "python",
   "name": "python3"
  },
  "language_info": {
   "codemirror_mode": {
    "name": "ipython",
    "version": 3
   },
   "file_extension": ".py",
   "mimetype": "text/x-python",
   "name": "python",
   "nbconvert_exporter": "python",
   "pygments_lexer": "ipython3",
   "version": "3.11.6"
  }
 },
 "nbformat": 4,
 "nbformat_minor": 2
}
